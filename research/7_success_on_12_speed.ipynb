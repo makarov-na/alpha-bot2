{
 "cells": [
  {
   "cell_type": "markdown",
   "id": "3c00eafa-9f0e-474d-b7f1-7f9393140fda",
   "metadata": {},
   "source": [
    "**Предыдущий успешный результат на 12 скорости оказался не стабильным. На текущем варианте проведено много испытаний с стабильно положительным результатом. При этом есть недостаток в виде рывков на проходе дуги. Сделать ссылку на youtube.**\n",
    "\n",
    "\n",
    "#### Исходные данные\n",
    "\n",
    "* Ограничение максимального выхода 30\n",
    "* KP = 0.3, KD = 0.3, KI = 0, скорость = 12, sleep = 10 мкс\n",
    "\n",
    "#### Что пробоверено и не привело к улучшениям:\n",
    "* Попробовать уменьшить KP и KD\n",
    "\n",
    "#### Что не проверено:\n",
    "\n",
    "* Обрабатывать отрицательный PID при приближении к нулю\n",
    "* Сделать более точную калибровку\n",
    "* Выставить правильный период изменения сейчас dt всегда 1\n",
    "* Не усиливать P значением D, а только гасить \n",
    "* Получать значение по среднему из трех измерений\n"
   ]
  },
  {
   "cell_type": "code",
   "execution_count": 4,
   "id": "8c71385c-16a1-4006-91ab-df7c04587589",
   "metadata": {},
   "outputs": [],
   "source": [
    "#from IPython.display import YouTubeVideo\n",
    "#YouTubeVideo('XEBHfJDtM-M', width=800, height=300)"
   ]
  },
  {
   "cell_type": "code",
   "execution_count": null,
   "id": "e9578a8c-9271-4e79-9952-52369f062a98",
   "metadata": {},
   "outputs": [],
   "source": []
  }
 ],
 "metadata": {
  "kernelspec": {
   "display_name": "Python 3 (ipykernel)",
   "language": "python",
   "name": "python3"
  },
  "language_info": {
   "codemirror_mode": {
    "name": "ipython",
    "version": 3
   },
   "file_extension": ".py",
   "mimetype": "text/x-python",
   "name": "python",
   "nbconvert_exporter": "python",
   "pygments_lexer": "ipython3",
   "version": "3.9.7"
  }
 },
 "nbformat": 4,
 "nbformat_minor": 5
}
