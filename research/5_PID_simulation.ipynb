{
 "cells": [
  {
   "cell_type": "markdown",
   "id": "c271d599-489d-4929-85ed-9eb7b2ed1ebf",
   "metadata": {},
   "source": [
    "Цель: смоделировать работу управляющее воздействие с различными вариантами настрое PID"
   ]
  },
  {
   "cell_type": "markdown",
   "id": "5ce3ff4b-6171-47d4-8533-2cfad5e34c1f",
   "metadata": {},
   "source": [
    "Берем в качестве исходных данных "
   ]
  },
  {
   "cell_type": "code",
   "execution_count": null,
   "id": "d601ba63-b83d-4fee-861c-192f08aad8f9",
   "metadata": {},
   "outputs": [],
   "source": []
  }
 ],
 "metadata": {
  "kernelspec": {
   "display_name": "Python 3 (ipykernel)",
   "language": "python",
   "name": "python3"
  },
  "language_info": {
   "codemirror_mode": {
    "name": "ipython",
    "version": 3
   },
   "file_extension": ".py",
   "mimetype": "text/x-python",
   "name": "python",
   "nbconvert_exporter": "python",
   "pygments_lexer": "ipython3",
   "version": "3.9.7"
  }
 },
 "nbformat": 4,
 "nbformat_minor": 5
}
