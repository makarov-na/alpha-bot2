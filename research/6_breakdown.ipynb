{
 "cells": [
  {
   "cell_type": "markdown",
   "id": "2c15d356-5341-45db-abb0-204e9f60dc67",
   "metadata": {},
   "source": [
    "Исходные данные\n",
    "\n",
    "* P=0,3\n",
    "* D=0,3\n",
    "* I=0,001\n",
    "* скорость 12\n",
    "\n",
    "Иногда проходит очень ровно, но иногда срывается. В журнале 7_breakdown_03_03_001_12.log срыв происходит на прямой линии"
   ]
  },
  {
   "cell_type": "code",
   "execution_count": 1,
   "id": "e2bf9327-ba15-47f2-ba84-9dc20945cda0",
   "metadata": {},
   "outputs": [],
   "source": [
    "import matplotlib.pyplot as plt\n",
    "import numpy as np\n",
    "import pandas as pd\n",
    "import seaborn as sns\n",
    "from loader import load_data \n",
    "sys.path.append(\"../src\")\n",
    "from alphabot.pid_module import PidController"
   ]
  },
  {
   "cell_type": "code",
   "execution_count": 2,
   "id": "67be705f-8fd2-4c47-a7a5-8565223732a6",
   "metadata": {},
   "outputs": [
    {
     "ename": "FileNotFoundError",
     "evalue": "[Errno 2] No such file or directory: './data/7_breakdown_03_03_001_12.log'",
     "output_type": "error",
     "traceback": [
      "\u001b[0;31m---------------------------------------------------------------------------\u001b[0m",
      "\u001b[0;31mFileNotFoundError\u001b[0m                         Traceback (most recent call last)",
      "\u001b[0;32m/tmp/ipykernel_17069/4146563105.py\u001b[0m in \u001b[0;36m<module>\u001b[0;34m\u001b[0m\n\u001b[0;32m----> 1\u001b[0;31m \u001b[0mdata\u001b[0m \u001b[0;34m=\u001b[0m \u001b[0mload_data\u001b[0m\u001b[0;34m(\u001b[0m\u001b[0;34m'./data/7_breakdown_03_03_001_12.log'\u001b[0m\u001b[0;34m)\u001b[0m\u001b[0;34m\u001b[0m\u001b[0;34m\u001b[0m\u001b[0m\n\u001b[0m\u001b[1;32m      2\u001b[0m \u001b[0msensor0\u001b[0m\u001b[0;34m=\u001b[0m\u001b[0mdata\u001b[0m\u001b[0;34m[\u001b[0m\u001b[0;34m'sensor0'\u001b[0m\u001b[0;34m]\u001b[0m\u001b[0;34m\u001b[0m\u001b[0;34m\u001b[0m\u001b[0m\n\u001b[1;32m      3\u001b[0m \u001b[0msensor1\u001b[0m\u001b[0;34m=\u001b[0m\u001b[0mdata\u001b[0m\u001b[0;34m[\u001b[0m\u001b[0;34m'sensor1'\u001b[0m\u001b[0;34m]\u001b[0m\u001b[0;34m\u001b[0m\u001b[0;34m\u001b[0m\u001b[0m\n\u001b[1;32m      4\u001b[0m \u001b[0msensor2\u001b[0m\u001b[0;34m=\u001b[0m\u001b[0mdata\u001b[0m\u001b[0;34m[\u001b[0m\u001b[0;34m'sensor2'\u001b[0m\u001b[0;34m]\u001b[0m\u001b[0;34m\u001b[0m\u001b[0;34m\u001b[0m\u001b[0m\n\u001b[1;32m      5\u001b[0m \u001b[0msensor3\u001b[0m\u001b[0;34m=\u001b[0m\u001b[0mdata\u001b[0m\u001b[0;34m[\u001b[0m\u001b[0;34m'sensor3'\u001b[0m\u001b[0;34m]\u001b[0m\u001b[0;34m\u001b[0m\u001b[0;34m\u001b[0m\u001b[0m\n",
      "\u001b[0;32m~/Projects/alpha-bot2/research/loader.py\u001b[0m in \u001b[0;36mload_data\u001b[0;34m(file_name)\u001b[0m\n\u001b[1;32m     17\u001b[0m \u001b[0;34m\u001b[0m\u001b[0m\n\u001b[1;32m     18\u001b[0m \u001b[0;32mdef\u001b[0m \u001b[0mload_data\u001b[0m\u001b[0;34m(\u001b[0m\u001b[0mfile_name\u001b[0m\u001b[0;34m)\u001b[0m\u001b[0;34m:\u001b[0m\u001b[0;34m\u001b[0m\u001b[0;34m\u001b[0m\u001b[0m\n\u001b[0;32m---> 19\u001b[0;31m     \u001b[0;32mwith\u001b[0m \u001b[0mopen\u001b[0m\u001b[0;34m(\u001b[0m\u001b[0mfile_name\u001b[0m\u001b[0;34m,\u001b[0m \u001b[0mmode\u001b[0m\u001b[0;34m=\u001b[0m\u001b[0;34m'r'\u001b[0m\u001b[0;34m)\u001b[0m \u001b[0;32mas\u001b[0m \u001b[0mdata_file\u001b[0m\u001b[0;34m:\u001b[0m\u001b[0;34m\u001b[0m\u001b[0;34m\u001b[0m\u001b[0m\n\u001b[0m\u001b[1;32m     20\u001b[0m         \u001b[0mlines\u001b[0m \u001b[0;34m=\u001b[0m \u001b[0mdata_file\u001b[0m\u001b[0;34m.\u001b[0m\u001b[0mreadlines\u001b[0m\u001b[0;34m(\u001b[0m\u001b[0;34m)\u001b[0m\u001b[0;34m\u001b[0m\u001b[0;34m\u001b[0m\u001b[0m\n\u001b[1;32m     21\u001b[0m \u001b[0;34m\u001b[0m\u001b[0m\n",
      "\u001b[0;31mFileNotFoundError\u001b[0m: [Errno 2] No such file or directory: './data/7_breakdown_03_03_001_12.log'"
     ]
    }
   ],
   "source": [
    "data = load_data('./data/6_breakdown_03_03_001_12.log')\n",
    "sensor0=data['sensor0']\n",
    "sensor1=data['sensor1']\n",
    "sensor2=data['sensor2']\n",
    "sensor3=data['sensor3']\n",
    "sensor4=data['sensor4']\n",
    "left_pid_out = data['left_pid_out']\n",
    "right_pid_out = data['right_pid_out']\n",
    "actual_right_pid_out = []"
   ]
  },
  {
   "cell_type": "code",
   "execution_count": null,
   "id": "df8c99fa-4c1f-47a7-b762-c6989f0f3d67",
   "metadata": {},
   "outputs": [],
   "source": [
    "print (len(sensor0))"
   ]
  },
  {
   "cell_type": "code",
   "execution_count": null,
   "id": "e6c9cafd-1d9b-4234-aef4-88c11bd357f3",
   "metadata": {},
   "outputs": [],
   "source": [
    "range_len = 200\n",
    "start = 1500\n",
    "end = start + range_len\n",
    "fig = plt.figure(figsize=(30, 15))\n",
    "ax = fig.add_axes([0,0,1,1])\n",
    "\n",
    "#ax.plot(sensor1[start:end], linewidth=2.0, color = 'red', label='Left sensor')\n",
    "#ax.bar(np.arange(0,range,1), sensor1[start:end], color = 'tomato', alpha = 0.3)\n",
    "#ax.plot(sensor3[start:end], linewidth=2.0, color = 'blue', label = 'Right sensor')\n",
    "#ax.bar(np.arange(0,range,1), sensor3[start:end], color = 'skyblue', alpha = 0.3)\n",
    "\n",
    "ax.plot(left_pid_out[start:end], linewidth=2.0, color = 'green', label = 'Right turn power (left PID)')\n",
    "ax.bar(np.arange(0,range_len,1), left_pid_out[start:end], alpha = 0.3, color = 'springgreen')\n",
    "ax.plot(right_pid_out[start:end], linewidth=2.0, color = 'magenta', label = 'Left turn power (right PID)')\n",
    "ax.bar(np.arange(0,range_len,1), right_pid_out[start:end], alpha = 0.3, color = 'magenta')\n",
    "ax.legend(fontsize = 'x-large')\n"
   ]
  },
  {
   "cell_type": "markdown",
   "id": "ae1812d7-ea60-4970-a594-baf4fd85c837",
   "metadata": {},
   "source": [
    "Что нужно делать:\n",
    "\n",
    "* Попробовать уменьшить KP и KD\n",
    "* Обрабатывать отрицательный PID при приближении к нулю\n",
    "* Сделать более точную калибровку\n",
    "* Выставить правильный период изменения сейчас dt всегда 1\n",
    "* Не усиливать P значением D, а только гасить \n",
    "* Получать значение по среднему из трех измерений"
   ]
  },
  {
   "cell_type": "markdown",
   "id": "f07966b8-e4b4-41eb-b10c-bba8e13006e4",
   "metadata": {},
   "source": [
    "Обработка отрицательного PID"
   ]
  },
  {
   "cell_type": "code",
   "execution_count": null,
   "id": "12b02a68-82e3-4552-acf5-ff4feb2e0731",
   "metadata": {},
   "outputs": [],
   "source": [
    "MAX_OUT = 100\n",
    "LEFT_TARGET_VALUE = 265\n",
    "RIGHT_TARGET_VALUE = 247\n",
    "\n",
    "KP = 0.2\n",
    "KD = 0.3\n",
    "KI = 0.001\n",
    "l_pid = PidController(KP, KI, KD, LEFT_TARGET_VALUE, MAX_OUT)\n",
    "r_pid = PidController(KP, KI, KD, RIGHT_TARGET_VALUE, MAX_OUT)\n",
    "left_pid_out_model, right_pid_out_model = [],[]"
   ]
  },
  {
   "cell_type": "code",
   "execution_count": null,
   "id": "094a97ed-584e-41cf-92bd-786422234c81",
   "metadata": {},
   "outputs": [],
   "source": [
    "\n",
    "for x in range(0,len(sensor1)):\n",
    "    left_pid_out_model.append(l_pid.getOutput(sensor1[x], 1))\n",
    "    right_pid_out_model.append(r_pid.getOutput(sensor3[x], 1))\n",
    "    if left_pid_out_model[x] < 0 and right_pid_out_model[x] < 0:\n",
    "        if left_pid_out_model[x] < right_pid_out_model[x]:\n",
    "            right_pid_out_model[x] = 0\n",
    "        elif right_pid_out_model[x] < left_pid_out_model[x]:\n",
    "            left_pid_out_model[x] = 0\n",
    "    left_pid_out_model[x] = left_pid_out_model[x]*-1\n",
    "    right_pid_out_model[x] = right_pid_out_model[x]*-1"
   ]
  },
  {
   "cell_type": "code",
   "execution_count": null,
   "id": "207ffd11-dbb1-477e-8890-a12539031c10",
   "metadata": {},
   "outputs": [],
   "source": [
    "range_len = 200\n",
    "start = 1500\n",
    "end = start + range_len\n",
    "fig = plt.figure(figsize=(30, 15))\n",
    "ax = fig.add_axes([0,0,1,1])\n",
    "\n",
    "\n",
    "ax.plot(left_pid_out_model[start:end], linewidth=2.0, color = 'green', label = 'Right turn power (left PID)')\n",
    "ax.bar(np.arange(0,range_len,1), left_pid_out_model[start:end], alpha = 0.3, color = 'springgreen')\n",
    "ax.plot(right_pid_out_model[start:end], linewidth=2.0, color = 'magenta', label = 'Left turn power (right PID)')\n",
    "ax.bar(np.arange(0,range_len,1), right_pid_out_model[start:end], alpha = 0.3, color = 'magenta')\n",
    "\n",
    "#ax.plot(left_pid_out[start:end], linewidth=2.0, color = 'green', label = 'Right turn power (left PID)')\n",
    "#ax.bar(np.arange(0,range,1), left_pid_out[start:end], alpha = 0.3, color = 'springgreen')\n",
    "#ax.plot(right_pid_out[start:end], linewidth=2.0, color = 'red', label = 'Left turn power (right PID)')\n",
    "#ax.bar(np.arange(0,range,1), right_pid_out[start:end], alpha = 0.3, color = 'red')\n",
    "\n",
    "ax.legend(fontsize = 'x-large')"
   ]
  }
 ],
 "metadata": {
  "kernelspec": {
   "display_name": "Python 3 (ipykernel)",
   "language": "python",
   "name": "python3"
  },
  "language_info": {
   "codemirror_mode": {
    "name": "ipython",
    "version": 3
   },
   "file_extension": ".py",
   "mimetype": "text/x-python",
   "name": "python",
   "nbconvert_exporter": "python",
   "pygments_lexer": "ipython3",
   "version": "3.9.7"
  }
 },
 "nbformat": 4,
 "nbformat_minor": 5
}
